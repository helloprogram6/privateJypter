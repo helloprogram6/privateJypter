{
 "cells": [
  {
   "cell_type": "code",
   "execution_count": 3,
   "metadata": {},
   "outputs": [
    {
     "name": "stdout",
     "output_type": "stream",
     "text": [
      "\n",
      " numpy [[0 1 2]\n",
      " [3 4 5]] \n",
      " torch tensor([[0, 1, 2],\n",
      "        [3, 4, 5]], dtype=torch.int32) \n",
      " tensor2array [[0 1 2]\n",
      " [3 4 5]]\n"
     ]
    }
   ],
   "source": [
    "import torch\n",
    "import numpy as np\n",
    "\n",
    "#创建numpy数组\n",
    "np_data = np.arange(6).reshape((2,3))\n",
    "\n",
    "#根据numpy数组创建torch的tensor\n",
    "torch_data = torch.from_numpy(np_data)\n",
    "\n",
    "#把tensor转化成numpy数组\n",
    "tensor2array = torch_data.numpy()\n",
    "print(\n",
    "    \"\\n numpy\",np_data,\n",
    "    \"\\n torch\",torch_data,\n",
    "    \"\\n tensor2array\",tensor2array,\n",
    ")"
   ]
  },
  {
   "cell_type": "code",
   "execution_count": 6,
   "metadata": {},
   "outputs": [
    {
     "name": "stdout",
     "output_type": "stream",
     "text": [
      "abs: \n",
      " numpy [1 2 1 2] \n",
      " torch tensor([1., 2., 1., 2.])\n",
      "mean: \n",
      " numpy 0.0 \n",
      " torch tensor(0.)\n"
     ]
    }
   ],
   "source": [
    "data = [-1, -2, 1, 2]\n",
    "tensor = torch.FloatTensor(data) # 32bit\n",
    "\n",
    "# torch包中的所有函数的解释 https://pytorch.org/docs/stable/torch.html \n",
    "print(\"abs:\",\n",
    "    \"\\n numpy\",np.abs(data),#绝对值\n",
    "    \"\\n torch\",torch.abs(tensor),\n",
    ")\n",
    "print(\"mean:\",\n",
    "    \"\\n numpy\",np.mean(data), #平均值\n",
    "    \"\\n torch\",torch.mean(tensor),\n",
    ")"
   ]
  },
  {
   "cell_type": "code",
   "execution_count": 26,
   "metadata": {},
   "outputs": [
    {
     "name": "stdout",
     "output_type": "stream",
     "text": [
      "tensor([[1., 2.],\n",
      "        [3., 4.]])\n",
      "两个矩阵相乘：\n",
      " numpy [[ 7 10]\n",
      " [15 22]] \n",
      " torch tensor([[ 7., 10.],\n",
      "        [15., 22.]])\n",
      "\n",
      " numpy [[ 7 10]\n",
      " [15 22]] \n",
      " torch tensor(30.)\n"
     ]
    }
   ],
   "source": [
    "data = [[1,2],[3,4]]\n",
    "tensor = torch.FloatTensor(data)\n",
    "print(tensor)\n",
    "print(\"两个矩阵相乘：\"\n",
    "    \"\\n numpy\",np.matmul(data, data),\n",
    "    \"\\n torch\",torch.mm(tensor ,tensor),\n",
    ")\n",
    "data = np.array(data)\n",
    "tensor =torch.reshape(tensor,(-1,))#转成1维tensor\n",
    "print(\n",
    "    \"\\n numpy\",np.dot(data, data),#算两个矩阵相乘和matmul一样\n",
    "    \"\\n torch\",torch.dot(tensor,tensor),#计算两个矩阵的内积\n",
    "    #由于在pytorch0.3之后，tensor.dot()方法进行了更新，只能对1维的tensor进行点成运算\n",
    ")"
   ]
  },
  {
   "cell_type": "code",
   "execution_count": 32,
   "metadata": {},
   "outputs": [
    {
     "name": "stdout",
     "output_type": "stream",
     "text": [
      "tensor([[[ 0.,  1.,  2.,  3.,  4.],\n",
      "         [ 5.,  6.,  7.,  8.,  9.],\n",
      "         [10., 11., 12., 13., 14.],\n",
      "         [15., 16., 17., 18., 19.]],\n",
      "\n",
      "        [[20., 21., 22., 23., 24.],\n",
      "         [25., 26., 27., 28., 29.],\n",
      "         [30., 31., 32., 33., 34.],\n",
      "         [35., 36., 37., 38., 39.]],\n",
      "\n",
      "        [[40., 41., 42., 43., 44.],\n",
      "         [45., 46., 47., 48., 49.],\n",
      "         [50., 51., 52., 53., 54.],\n",
      "         [55., 56., 57., 58., 59.]]])\n",
      "tensor([[[ 0.,  1.],\n",
      "         [ 2.,  3.],\n",
      "         [ 4.,  5.]],\n",
      "\n",
      "        [[ 6.,  7.],\n",
      "         [ 8.,  9.],\n",
      "         [10., 11.]],\n",
      "\n",
      "        [[12., 13.],\n",
      "         [14., 15.],\n",
      "         [16., 17.]],\n",
      "\n",
      "        [[18., 19.],\n",
      "         [20., 21.],\n",
      "         [22., 23.]]])\n"
     ]
    }
   ],
   "source": [
    "a = torch.arange(60.).reshape(3, 4, 5)\n",
    "b = torch.arange(24.).reshape(4, 3, 2)\n",
    "print(a)\n",
    "print(b)"
   ]
  }
 ],
 "metadata": {
  "kernelspec": {
   "display_name": "Python 3",
   "language": "python",
   "name": "python3"
  },
  "language_info": {
   "codemirror_mode": {
    "name": "ipython",
    "version": 3
   },
   "file_extension": ".py",
   "mimetype": "text/x-python",
   "name": "python",
   "nbconvert_exporter": "python",
   "pygments_lexer": "ipython3",
   "version": "3.7.7"
  }
 },
 "nbformat": 4,
 "nbformat_minor": 4
}
