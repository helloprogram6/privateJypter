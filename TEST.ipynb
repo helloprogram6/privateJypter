{
 "cells": [
  {
   "cell_type": "code",
   "execution_count": 2,
   "metadata": {},
   "outputs": [
    {
     "name": "stdout",
     "output_type": "stream",
     "text": [
      "tensor([[0.4426, 0.7265, 0.6348],\n",
      "        [0.5177, 0.7965, 0.5589],\n",
      "        [0.8741, 0.9099, 0.3961],\n",
      "        [0.1481, 0.2265, 0.7136],\n",
      "        [0.9270, 0.3859, 0.9773]])\n"
     ]
    }
   ],
   "source": [
    "import torch\n",
    "x = torch.rand(5,3)\n",
    "print(x)"
   ]
  },
  {
   "cell_type": "code",
   "execution_count": 12,
   "metadata": {},
   "outputs": [
    {
     "name": "stdout",
     "output_type": "stream",
     "text": [
      "tensor([0.7356, 0.0489, 0.8893, 0.6932, 0.2773, 0.6001, 0.1178, 0.4417, 0.3156,\n",
      "        0.9175])\n",
      "tensor([[0.7356, 0.0489, 0.8893, 0.6932, 0.2773, 0.6001, 0.1178, 0.4417, 0.3156,\n",
      "         0.9175]])\n"
     ]
    }
   ],
   "source": [
    "target = torch.rand(10)\n",
    "print(target)\n",
    "target = target.view(1,-1)\n",
    "print(target)"
   ]
  },
  {
   "cell_type": "code",
   "execution_count": 9,
   "metadata": {},
   "outputs": [
    {
     "data": {
      "text/plain": [
       "tensor([[0.1465],\n",
       "        [0.5214],\n",
       "        [0.6784],\n",
       "        [0.3588],\n",
       "        [0.8290],\n",
       "        [0.0869],\n",
       "        [0.6731],\n",
       "        [0.9229],\n",
       "        [0.5465],\n",
       "        [0.4196]])"
      ]
     },
     "execution_count": 9,
     "metadata": {},
     "output_type": "execute_result"
    }
   ],
   "source": [
    "torch.rand(10,1)"
   ]
  },
  {
   "cell_type": "code",
   "execution_count": 11,
   "metadata": {},
   "outputs": [
    {
     "data": {
      "text/plain": [
       "tensor([0.6106, 0.5315, 0.0790, 0.8435, 0.9840, 0.5197, 0.8708, 0.2099, 0.3677,\n",
       "        0.1350])"
      ]
     },
     "execution_count": 11,
     "metadata": {},
     "output_type": "execute_result"
    }
   ],
   "source": [
    "torch.rand(10)"
   ]
  },
  {
   "cell_type": "code",
   "execution_count": 15,
   "metadata": {},
   "outputs": [
    {
     "data": {
      "text/plain": [
       "tensor([[0.7356, 0.0489, 0.8893, 0.6932, 0.2773],\n",
       "        [0.6001, 0.1178, 0.4417, 0.3156, 0.9175]])"
      ]
     },
     "execution_count": 15,
     "metadata": {},
     "output_type": "execute_result"
    }
   ],
   "source": [
    "target.reshape(2,5)"
   ]
  },
  {
   "cell_type": "code",
   "execution_count": 16,
   "metadata": {},
   "outputs": [
    {
     "data": {
      "text/plain": [
       "tensor([[0.7356, 0.0489, 0.8893, 0.6932, 0.2773],\n",
       "        [0.6001, 0.1178, 0.4417, 0.3156, 0.9175]])"
      ]
     },
     "execution_count": 16,
     "metadata": {},
     "output_type": "execute_result"
    }
   ],
   "source": [
    "target.view(2,5)"
   ]
  },
  {
   "cell_type": "code",
   "execution_count": null,
   "metadata": {},
   "outputs": [],
   "source": []
  }
 ],
 "metadata": {
  "kernelspec": {
   "display_name": "Python 3",
   "language": "python",
   "name": "python3"
  },
  "language_info": {
   "codemirror_mode": {
    "name": "ipython",
    "version": 3
   },
   "file_extension": ".py",
   "mimetype": "text/x-python",
   "name": "python",
   "nbconvert_exporter": "python",
   "pygments_lexer": "ipython3",
   "version": "3.7.7"
  }
 },
 "nbformat": 4,
 "nbformat_minor": 4
}
